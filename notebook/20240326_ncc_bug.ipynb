{
 "cells": [
  {
   "cell_type": "code",
   "execution_count": 1,
   "metadata": {},
   "outputs": [
    {
     "name": "stdout",
     "output_type": "stream",
     "text": [
      "base r_url\n",
      "https://www.nongmin.com/article/20240322500554\n",
      "{}\n",
      "https://www.nongmin.com/article/20240322500554\n",
      "else\n",
      "https://www.nongmin.com/article/20240322500554\n"
     ]
    }
   ],
   "source": [
    "import yarl\n",
    "import requests\n",
    "import urllib.request\n",
    "\n",
    "\n",
    "\n",
    "link_url = 'https://www.nongmin.com/article/20240322500554' \n",
    "\n",
    "\n",
    "\n",
    "r_url = yarl.URL(link_url)\n",
    "print('base r_url')\n",
    "print(r_url)\n",
    "\n",
    "\n",
    "\n",
    "\n",
    "press_params = []\n",
    "queries = {}\n",
    "for query, value in r_url.query.items():\n",
    "    # print(query)\n",
    "    # print(value)\n",
    "    if query in press_params:\n",
    "        continue\n",
    "    if \"naver\" in value:\n",
    "        continue\n",
    "    queries[query] = value\n",
    "            \n",
    "print(queries)\n",
    "r_url = str(r_url.with_query(queries))\n",
    "print(r_url)\n",
    "\n",
    "\n",
    "if r_url != link_url:\n",
    "    try:\n",
    "        req = urllib.request.Request(r_url)\n",
    "        req.add_header(\"User-Agent\", \"Mozilla/5.0 (Macintosh; Intel Mac OS X 10_15_4) AppleWebKit/537.36 (KHTML, like Gecko) Chrome/81.0.4044.138 Safari/537.36\")\n",
    "        res = urllib.request.urlopen(req)\n",
    "        print('finished')\n",
    "        print(r_url)\n",
    "    except HTTPError as e:\n",
    "        res_code = e.getcode()\n",
    "        self.log.info(f\"    check_link_url error : {e}, link_url : {link_url} \")\n",
    "        print(r_url)\n",
    "    except Exception as e:\n",
    "        self.log.info(\n",
    "            f\"   check_link_url Exception {e}: check_origin_url  url: {link_url}, r_url: {r_url}\"\n",
    "        )\n",
    "        print(r_url)\n",
    "else:\n",
    "    print('else')\n",
    "    print(r_url)\n",
    "    \n"
   ]
  }
 ],
 "metadata": {
  "kernelspec": {
   "display_name": "Python 3.9.0 ('aicel_crawler': conda)",
   "language": "python",
   "name": "python3"
  },
  "language_info": {
   "codemirror_mode": {
    "name": "ipython",
    "version": 3
   },
   "file_extension": ".py",
   "mimetype": "text/x-python",
   "name": "python",
   "nbconvert_exporter": "python",
   "pygments_lexer": "ipython3",
   "version": "3.9.0"
  },
  "orig_nbformat": 4,
  "vscode": {
   "interpreter": {
    "hash": "efdb7dd7498d56042989f65b2829416d1c0734a84a0f6ae9483735865b47b9cc"
   }
  }
 },
 "nbformat": 4,
 "nbformat_minor": 2
}
