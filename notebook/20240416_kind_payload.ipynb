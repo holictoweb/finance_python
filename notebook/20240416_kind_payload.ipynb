{
 "cells": [
  {
   "cell_type": "code",
   "execution_count": 5,
   "metadata": {},
   "outputs": [
    {
     "name": "stdout",
     "output_type": "stream",
     "text": [
      "('<HTML><HEAD>\\n'\n",
      " '<TITLE>Access Denied</TITLE>\\n'\n",
      " '</HEAD><BODY>\\n'\n",
      " '<H1>Access Denied</H1>\\n'\n",
      " ' \\n'\n",
      " \"You don't have permission to access \"\n",
      " '\"http&#58;&#47;&#47;kind&#46;krx&#46;co&#46;kr&#47;disclosure&#47;details&#46;do\" '\n",
      " 'on this server.<P>\\n'\n",
      " 'Reference&#32;&#35;18&#46;584bc817&#46;1713253198&#46;82c72fc\\n'\n",
      " '<P>https&#58;&#47;&#47;errors&#46;edgesuite&#46;net&#47;18&#46;584bc817&#46;1713253198&#46;82c72fc</P>\\n'\n",
      " '</BODY>\\n'\n",
      " '</HTML>\\n')\n"
     ]
    }
   ],
   "source": [
    "import requests\n",
    "from pprint import pprint\n",
    "\n",
    "remote_url = \"https://kind.krx.co.kr/disclosure/details.do\"\n",
    "payload = {\n",
    "    \"method\": \"searchDetailsSub\",\n",
    "    \"currentPageSize\": 2,\n",
    "    \"pageIndex\": 1,\n",
    "    \"orderMode\": 1,\n",
    "    \"orderStat\": \"D\",\n",
    "    \"forward\": \"details_sub\",\n",
    "    \"disclosureType02\": \"0313|\",\n",
    "    \"pDisclosureType02\": \"0313|\",\n",
    "    \"fromDate\": \"2022-04-12\",\n",
    "    \"toDate\": \"2024-04-12\"\n",
    "}\n",
    "\n",
    "\n",
    "remote_url = \"https://kind.krx.co.kr/disclosure/details.do?\"\n",
    "remote_url_param = 'method=searchDetailsSub&currentPageSize=2&pageIndex=1&orderMode=1&orderStat=D&forward=details_sub&disclosureType01=&disclosureType02=0313%7C&disclosureType03=&disclosureType04=&disclosureType05=&disclosureType06=&disclosureType07=&disclosureType08=&disclosureType09=&disclosureType10=&disclosureType11=&disclosureType13=&disclosureType14=&disclosureType20=&pDisclosureType01=&pDisclosureType02=0313%7C&pDisclosureType03=&pDisclosureType04=&pDisclosureType05=&pDisclosureType06=&pDisclosureType07=&pDisclosureType08=&pDisclosureType09=&pDisclosureType10=&pDisclosureType11=&pDisclosureType13=&pDisclosureType14=&pDisclosureType20=&searchCodeType=&repIsuSrtCd=&allRepIsuSrtCd=&oldSearchCorpName=&disclosureType=&disTypevalue=&reportNm=&reportCd=&searchCorpName=&business=&marketType=&settlementMonth=&securities=&submitOblgNm=&enterprise=&fromDate=2022-04-12&toDate=2024-04-12&reportNmTemp=&reportNmPop=&disclosureTypeArr02=0313'\n",
    "remote_url = remote_url + remote_url_param\n",
    "\n",
    "res = requests.get(url=remote_url, data=payload)\n",
    "\n",
    "pprint(res.text)\n",
    "        "
   ]
  },
  {
   "cell_type": "code",
   "execution_count": null,
   "metadata": {},
   "outputs": [],
   "source": []
  }
 ],
 "metadata": {
  "kernelspec": {
   "display_name": "Python 3.9.0 ('aicel_crawler': conda)",
   "language": "python",
   "name": "python3"
  },
  "language_info": {
   "codemirror_mode": {
    "name": "ipython",
    "version": 3
   },
   "file_extension": ".py",
   "mimetype": "text/x-python",
   "name": "python",
   "nbconvert_exporter": "python",
   "pygments_lexer": "ipython3",
   "version": "3.9.0"
  },
  "orig_nbformat": 4,
  "vscode": {
   "interpreter": {
    "hash": "efdb7dd7498d56042989f65b2829416d1c0734a84a0f6ae9483735865b47b9cc"
   }
  }
 },
 "nbformat": 4,
 "nbformat_minor": 2
}
