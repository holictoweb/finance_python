{
 "cells": [
  {
   "cell_type": "code",
   "execution_count": 4,
   "metadata": {},
   "outputs": [
    {
     "name": "stdout",
     "output_type": "stream",
     "text": [
      "불성실공시 유형 \n"
     ]
    }
   ],
   "source": [
    "import re\n",
    "\n",
    "test = '2. 불성실공시 유형 '\n",
    "\n",
    "result = re.sub(r'^[0-9]+\\.\\s*', '', test)\n",
    "print(result)"
   ]
  },
  {
   "cell_type": "code",
   "execution_count": 24,
   "metadata": {},
   "outputs": [
    {
     "name": "stdout",
     "output_type": "stream",
     "text": [
      "불성실공시 유형 \n"
     ]
    }
   ],
   "source": [
    "import re\n",
    "\n",
    "test = '불성실공시 유형 '\n",
    "\n",
    "result = re.sub(r'^[0-9.*]+\\s*', '', test)\n",
    "print(result)"
   ]
  }
 ],
 "metadata": {
  "kernelspec": {
   "display_name": "Python 3.9.0 ('aicel_crawler': conda)",
   "language": "python",
   "name": "python3"
  },
  "language_info": {
   "codemirror_mode": {
    "name": "ipython",
    "version": 3
   },
   "file_extension": ".py",
   "mimetype": "text/x-python",
   "name": "python",
   "nbconvert_exporter": "python",
   "pygments_lexer": "ipython3",
   "version": "3.9.0"
  },
  "orig_nbformat": 4,
  "vscode": {
   "interpreter": {
    "hash": "efdb7dd7498d56042989f65b2829416d1c0734a84a0f6ae9483735865b47b9cc"
   }
  }
 },
 "nbformat": 4,
 "nbformat_minor": 2
}
